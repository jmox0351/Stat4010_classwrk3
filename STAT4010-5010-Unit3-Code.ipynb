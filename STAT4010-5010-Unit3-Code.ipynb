{
 "cells": [
  {
   "cell_type": "markdown",
   "metadata": {},
   "source": [
    "# Unit #3 Code: Regression Inference, Prediction, and Explanation\n",
    "\n",
    "In this code, we will implement and apply inference concepts that we learned about in Unit #3."
   ]
  },
  {
   "cell_type": "markdown",
   "metadata": {},
   "source": [
    "## Problem #1\n",
    "\n",
    "Let's take a look at the some [weather data](https://www.kaggle.com/budincsevity/szeged-weather/home). Our goal will be to think about prediction and explanation with respect to this data. But, this is a (somewhat) large dataset, and along the way, I'll ask you to clean and subset the data (these are important skills for data scientists).\n",
    "\n",
    "Here's a call to load the data:"
   ]
  },
  {
   "cell_type": "code",
   "execution_count": 1,
   "metadata": {
    "scrolled": false
   },
   "outputs": [
    {
     "name": "stderr",
     "output_type": "stream",
     "text": [
      "Warning message:\n",
      "\"package 'tidyverse' was built under R version 3.6.2\"-- Attaching packages --------------------------------------- tidyverse 1.3.0 --\n",
      "v ggplot2 3.2.1     v purrr   0.3.3\n",
      "v tibble  2.1.3     v dplyr   0.8.3\n",
      "v tidyr   1.0.0     v stringr 1.4.0\n",
      "v readr   1.3.1     v forcats 0.4.0\n",
      "Warning message:\n",
      "\"package 'ggplot2' was built under R version 3.6.2\"Warning message:\n",
      "\"package 'tibble' was built under R version 3.6.2\"Warning message:\n",
      "\"package 'tidyr' was built under R version 3.6.2\"Warning message:\n",
      "\"package 'purrr' was built under R version 3.6.2\"Warning message:\n",
      "\"package 'dplyr' was built under R version 3.6.2\"Warning message:\n",
      "\"package 'stringr' was built under R version 3.6.2\"Warning message:\n",
      "\"package 'forcats' was built under R version 3.6.2\"-- Conflicts ------------------------------------------ tidyverse_conflicts() --\n",
      "x dplyr::filter() masks stats::filter()\n",
      "x dplyr::lag()    masks stats::lag()\n"
     ]
    }
   ],
   "source": [
    "library(tidyverse) \n",
    "library(dplyr) #the select() and rename() functions in the dplyr library might help!\n",
    "library(ggplot2) #if you want to plot with ggplot..."
   ]
  },
  {
   "cell_type": "code",
   "execution_count": 2,
   "metadata": {},
   "outputs": [],
   "source": [
    "weather = read.csv(\"https://www.colorado.edu/amath/sites/default/files/attached-files/weatherhistory.txt\", sep = \"\\t\")"
   ]
  },
  {
   "cell_type": "markdown",
   "metadata": {},
   "source": [
    "#### (a) Print out the column names for this dataset. Our goal is to see how humidity does in predicting apparent temperature, while adjusting for some other variables. Construct a new dataframe with the date, temperature, apparent temperature, humidity, and windspeed. Also, since the names are a bit ugly, change them to:\n",
    "\n",
    "\"date\", \"temp\", \"atemp\", \"humid\", \"wspeed\""
   ]
  },
  {
   "cell_type": "code",
   "execution_count": 3,
   "metadata": {},
   "outputs": [
    {
     "data": {
      "text/html": [
       "<ol class=list-inline>\n",
       "\t<li>'Formatted.Date'</li>\n",
       "\t<li>'Summary'</li>\n",
       "\t<li>'Precip.Type'</li>\n",
       "\t<li>'Temperature..C.'</li>\n",
       "\t<li>'Apparent.Temperature..C.'</li>\n",
       "\t<li>'Humidity'</li>\n",
       "\t<li>'Wind.Speed..km.h.'</li>\n",
       "\t<li>'Wind.Bearing..degrees.'</li>\n",
       "\t<li>'Visibility..km.'</li>\n",
       "\t<li>'Loud.Cover'</li>\n",
       "\t<li>'Pressure..millibars.'</li>\n",
       "\t<li>'Daily.Summary'</li>\n",
       "</ol>\n"
      ],
      "text/latex": [
       "\\begin{enumerate*}\n",
       "\\item 'Formatted.Date'\n",
       "\\item 'Summary'\n",
       "\\item 'Precip.Type'\n",
       "\\item 'Temperature..C.'\n",
       "\\item 'Apparent.Temperature..C.'\n",
       "\\item 'Humidity'\n",
       "\\item 'Wind.Speed..km.h.'\n",
       "\\item 'Wind.Bearing..degrees.'\n",
       "\\item 'Visibility..km.'\n",
       "\\item 'Loud.Cover'\n",
       "\\item 'Pressure..millibars.'\n",
       "\\item 'Daily.Summary'\n",
       "\\end{enumerate*}\n"
      ],
      "text/markdown": [
       "1. 'Formatted.Date'\n",
       "2. 'Summary'\n",
       "3. 'Precip.Type'\n",
       "4. 'Temperature..C.'\n",
       "5. 'Apparent.Temperature..C.'\n",
       "6. 'Humidity'\n",
       "7. 'Wind.Speed..km.h.'\n",
       "8. 'Wind.Bearing..degrees.'\n",
       "9. 'Visibility..km.'\n",
       "10. 'Loud.Cover'\n",
       "11. 'Pressure..millibars.'\n",
       "12. 'Daily.Summary'\n",
       "\n",
       "\n"
      ],
      "text/plain": [
       " [1] \"Formatted.Date\"           \"Summary\"                 \n",
       " [3] \"Precip.Type\"              \"Temperature..C.\"         \n",
       " [5] \"Apparent.Temperature..C.\" \"Humidity\"                \n",
       " [7] \"Wind.Speed..km.h.\"        \"Wind.Bearing..degrees.\"  \n",
       " [9] \"Visibility..km.\"          \"Loud.Cover\"              \n",
       "[11] \"Pressure..millibars.\"     \"Daily.Summary\"           "
      ]
     },
     "metadata": {},
     "output_type": "display_data"
    },
    {
     "data": {
      "text/html": [
       "<table>\n",
       "<thead><tr><th scope=col>date</th><th scope=col>humid</th><th scope=col>temp</th><th scope=col>atemp</th><th scope=col>wspeed</th></tr></thead>\n",
       "<tbody>\n",
       "\t<tr><td>2006-04-01 00:00:00.000 +0200</td><td>0.89                         </td><td>9.472222                     </td><td>7.388889                     </td><td>14.1197                      </td></tr>\n",
       "\t<tr><td>2006-04-01 01:00:00.000 +0200</td><td>0.86                         </td><td>9.355556                     </td><td>7.227778                     </td><td>14.2646                      </td></tr>\n",
       "\t<tr><td>2006-04-01 02:00:00.000 +0200</td><td>0.89                         </td><td>9.377778                     </td><td>9.377778                     </td><td> 3.9284                      </td></tr>\n",
       "\t<tr><td>2006-04-01 03:00:00.000 +0200</td><td>0.83                         </td><td>8.288889                     </td><td>5.944444                     </td><td>14.1036                      </td></tr>\n",
       "\t<tr><td>2006-04-01 04:00:00.000 +0200</td><td>0.83                         </td><td>8.755556                     </td><td>6.977778                     </td><td>11.0446                      </td></tr>\n",
       "\t<tr><td>2006-04-01 05:00:00.000 +0200</td><td>0.85                         </td><td>9.222222                     </td><td>7.111111                     </td><td>13.9587                      </td></tr>\n",
       "</tbody>\n",
       "</table>\n"
      ],
      "text/latex": [
       "\\begin{tabular}{r|lllll}\n",
       " date & humid & temp & atemp & wspeed\\\\\n",
       "\\hline\n",
       "\t 2006-04-01 00:00:00.000 +0200 & 0.89                          & 9.472222                      & 7.388889                      & 14.1197                      \\\\\n",
       "\t 2006-04-01 01:00:00.000 +0200 & 0.86                          & 9.355556                      & 7.227778                      & 14.2646                      \\\\\n",
       "\t 2006-04-01 02:00:00.000 +0200 & 0.89                          & 9.377778                      & 9.377778                      &  3.9284                      \\\\\n",
       "\t 2006-04-01 03:00:00.000 +0200 & 0.83                          & 8.288889                      & 5.944444                      & 14.1036                      \\\\\n",
       "\t 2006-04-01 04:00:00.000 +0200 & 0.83                          & 8.755556                      & 6.977778                      & 11.0446                      \\\\\n",
       "\t 2006-04-01 05:00:00.000 +0200 & 0.85                          & 9.222222                      & 7.111111                      & 13.9587                      \\\\\n",
       "\\end{tabular}\n"
      ],
      "text/markdown": [
       "\n",
       "| date | humid | temp | atemp | wspeed |\n",
       "|---|---|---|---|---|\n",
       "| 2006-04-01 00:00:00.000 +0200 | 0.89                          | 9.472222                      | 7.388889                      | 14.1197                       |\n",
       "| 2006-04-01 01:00:00.000 +0200 | 0.86                          | 9.355556                      | 7.227778                      | 14.2646                       |\n",
       "| 2006-04-01 02:00:00.000 +0200 | 0.89                          | 9.377778                      | 9.377778                      |  3.9284                       |\n",
       "| 2006-04-01 03:00:00.000 +0200 | 0.83                          | 8.288889                      | 5.944444                      | 14.1036                       |\n",
       "| 2006-04-01 04:00:00.000 +0200 | 0.83                          | 8.755556                      | 6.977778                      | 11.0446                       |\n",
       "| 2006-04-01 05:00:00.000 +0200 | 0.85                          | 9.222222                      | 7.111111                      | 13.9587                       |\n",
       "\n"
      ],
      "text/plain": [
       "  date                          humid temp     atemp    wspeed \n",
       "1 2006-04-01 00:00:00.000 +0200 0.89  9.472222 7.388889 14.1197\n",
       "2 2006-04-01 01:00:00.000 +0200 0.86  9.355556 7.227778 14.2646\n",
       "3 2006-04-01 02:00:00.000 +0200 0.89  9.377778 9.377778  3.9284\n",
       "4 2006-04-01 03:00:00.000 +0200 0.83  8.288889 5.944444 14.1036\n",
       "5 2006-04-01 04:00:00.000 +0200 0.83  8.755556 6.977778 11.0446\n",
       "6 2006-04-01 05:00:00.000 +0200 0.85  9.222222 7.111111 13.9587"
      ]
     },
     "metadata": {},
     "output_type": "display_data"
    },
    {
     "data": {
      "text/html": [
       "<ol class=list-inline>\n",
       "\t<li>96453</li>\n",
       "\t<li>5</li>\n",
       "</ol>\n"
      ],
      "text/latex": [
       "\\begin{enumerate*}\n",
       "\\item 96453\n",
       "\\item 5\n",
       "\\end{enumerate*}\n"
      ],
      "text/markdown": [
       "1. 96453\n",
       "2. 5\n",
       "\n",
       "\n"
      ],
      "text/plain": [
       "[1] 96453     5"
      ]
     },
     "metadata": {},
     "output_type": "display_data"
    }
   ],
   "source": [
    "colnames(weather)\n",
    "weatherData = data.frame(weather$Formatted.Date, weather$Humidity, weather$Temperature..C, weather$Apparent.Temperature..C, weather$Wind.Speed..km.h)\n",
    "names(weatherData)[1] <- \"date\"\n",
    "names(weatherData)[2] <- \"humid\"\n",
    "names(weatherData)[3] <- \"temp\"\n",
    "names(weatherData)[4] <- \"atemp\"\n",
    "names(weatherData)[5] <- \"wspeed\"\n",
    "head(weatherData)\n",
    "dim(weatherData)"
   ]
  },
  {
   "cell_type": "code",
   "execution_count": null,
   "metadata": {},
   "outputs": [],
   "source": []
  },
  {
   "cell_type": "markdown",
   "metadata": {},
   "source": [
    "#### (b) Split the data into a training and testing set (as in previous assignments). Fit a linear model where atemp is the response and humid wspeed are predictors. Print the lm() summary."
   ]
  },
  {
   "cell_type": "code",
   "execution_count": 4,
   "metadata": {},
   "outputs": [
    {
     "name": "stderr",
     "output_type": "stream",
     "text": [
      "Warning message:\n",
      "\"package 'caTools' was built under R version 3.6.2\""
     ]
    },
    {
     "data": {
      "text/plain": [
       "\n",
       "Call:\n",
       "lm(formula = atemp ~ humid + wspeed, data = train)\n",
       "\n",
       "Residuals:\n",
       "    Min      1Q  Median      3Q     Max \n",
       "-59.800  -5.641   0.657   6.270  24.298 \n",
       "\n",
       "Coefficients:\n",
       "              Estimate Std. Error t value Pr(>|t|)    \n",
       "(Intercept)  40.306334   0.137095  294.00   <2e-16 ***\n",
       "humid       -35.460712   0.156204 -227.02   <2e-16 ***\n",
       "wspeed       -0.313553   0.004416  -71.01   <2e-16 ***\n",
       "---\n",
       "Signif. codes:  0 '***' 0.001 '**' 0.01 '*' 0.05 '.' 0.1 ' ' 1\n",
       "\n",
       "Residual standard error: 8.27 on 77159 degrees of freedom\n",
       "Multiple R-squared:  0.4025,\tAdjusted R-squared:  0.4025 \n",
       "F-statistic: 2.599e+04 on 2 and 77159 DF,  p-value: < 2.2e-16\n"
      ]
     },
     "metadata": {},
     "output_type": "display_data"
    }
   ],
   "source": [
    "set.seed(11)\n",
    "library(caTools)\n",
    "sample = sample.split(weatherData, SplitRatio = 0.80)\n",
    "train = subset(weatherData, sample == TRUE)\n",
    "test = subset(weatherData, sample == FALSE)\n",
    "model1 = lm(data = train, atemp ~ humid + wspeed)\n",
    "summary(model1)"
   ]
  },
  {
   "cell_type": "markdown",
   "metadata": {},
   "source": [
    "#### (c) Compute the standard error, t-value, and p-value explicitly and make sure that they match the summary above."
   ]
  },
  {
   "cell_type": "code",
   "execution_count": 24,
   "metadata": {},
   "outputs": [
    {
     "name": "stdout",
     "output_type": "stream",
     "text": [
      "SE of Beta one: 0.1370946 T-value of Beta one: 294.0039 P-value of Beta one: 0 \n",
      "SE of Beta two: 0.1562036 T-value of Beta two: -227.0159 P-value of Beta two: 0 \n",
      "SE of Beta three: 0.004415798 T-value of Beta three: -71.0071 P-value of Beta three: 0"
     ]
    }
   ],
   "source": [
    "RSS = sum(resid(model1)^2)\n",
    "colOne = matrix(1,77162,1)\n",
    "X = cbind(colOne, train$humid, train$wspeed)\n",
    "sigma = sqrt(RSS/(77162-3))\n",
    "varCov = solve(t(X) %*% X)\n",
    "se1 = sqrt(varCov[1,1]) * sigma\n",
    "se2 = sqrt(varCov[2,2]) * sigma\n",
    "se3 = sqrt(varCov[3,3]) * sigma\n",
    "tval1 = 40.306334/se1\n",
    "tval2 = -35.460712/se2\n",
    "tval3 = -0.313553/se3\n",
    "pval1 = dt(tval1, 77162-3)\n",
    "pval2 = dt(tval2,77162-3)\n",
    "pval3 = dt(tval3,77162-3)\n",
    "cat('SE of Beta one:', se1, 'T-value of Beta one:', tval1, 'P-value of Beta one:', pval1, '\\n')\n",
    "cat('SE of Beta two:', se2, 'T-value of Beta two:', tval2, 'P-value of Beta two:', pval2, '\\n')\n",
    "cat('SE of Beta three:', se3, 'T-value of Beta three:', tval3, 'P-value of Beta three:', pval3)"
   ]
  },
  {
   "cell_type": "markdown",
   "metadata": {},
   "source": [
    "#### (d) Construct 90% confidence intervals for each MLR parameter."
   ]
  },
  {
   "cell_type": "code",
   "execution_count": 25,
   "metadata": {},
   "outputs": [
    {
     "data": {
      "text/html": [
       "<table>\n",
       "<thead><tr><th></th><th scope=col>5 %</th><th scope=col>95 %</th></tr></thead>\n",
       "<tbody>\n",
       "\t<tr><th scope=row>(Intercept)</th><td> 40.080831 </td><td> 40.5318374</td></tr>\n",
       "\t<tr><th scope=row>humid</th><td>-35.717648 </td><td>-35.2037773</td></tr>\n",
       "\t<tr><th scope=row>wspeed</th><td> -0.320816 </td><td> -0.3062891</td></tr>\n",
       "</tbody>\n",
       "</table>\n"
      ],
      "text/latex": [
       "\\begin{tabular}{r|ll}\n",
       "  & 5 \\% & 95 \\%\\\\\n",
       "\\hline\n",
       "\t(Intercept) &  40.080831  &  40.5318374\\\\\n",
       "\thumid & -35.717648  & -35.2037773\\\\\n",
       "\twspeed &  -0.320816  &  -0.3062891\\\\\n",
       "\\end{tabular}\n"
      ],
      "text/markdown": [
       "\n",
       "| <!--/--> | 5 % | 95 % |\n",
       "|---|---|---|\n",
       "| (Intercept) |  40.080831  |  40.5318374 |\n",
       "| humid | -35.717648  | -35.2037773 |\n",
       "| wspeed |  -0.320816  |  -0.3062891 |\n",
       "\n"
      ],
      "text/plain": [
       "            5 %        95 %       \n",
       "(Intercept)  40.080831  40.5318374\n",
       "humid       -35.717648 -35.2037773\n",
       "wspeed       -0.320816  -0.3062891"
      ]
     },
     "metadata": {},
     "output_type": "display_data"
    }
   ],
   "source": [
    "confint(model1, level = 0.9)"
   ]
  },
  {
   "cell_type": "markdown",
   "metadata": {},
   "source": [
    "#### (e) Conduct an F-test to compare the full model above with the SLR model containing only humidity. What other test is this F-test equivalent to?"
   ]
  },
  {
   "cell_type": "code",
   "execution_count": 26,
   "metadata": {
    "scrolled": true
   },
   "outputs": [
    {
     "data": {
      "text/html": [
       "<table>\n",
       "<thead><tr><th scope=col>Res.Df</th><th scope=col>RSS</th><th scope=col>Df</th><th scope=col>Sum of Sq</th><th scope=col>F</th><th scope=col>Pr(&gt;F)</th></tr></thead>\n",
       "<tbody>\n",
       "\t<tr><td>77159    </td><td>5277270  </td><td>NA       </td><td>       NA</td><td>      NA </td><td>NA       </td></tr>\n",
       "\t<tr><td>77160    </td><td>5622116  </td><td>-1       </td><td>-344845.9</td><td>5041.994 </td><td> 0       </td></tr>\n",
       "</tbody>\n",
       "</table>\n"
      ],
      "text/latex": [
       "\\begin{tabular}{r|llllll}\n",
       " Res.Df & RSS & Df & Sum of Sq & F & Pr(>F)\\\\\n",
       "\\hline\n",
       "\t 77159     & 5277270   & NA        &        NA &       NA  & NA       \\\\\n",
       "\t 77160     & 5622116   & -1        & -344845.9 & 5041.994  &  0       \\\\\n",
       "\\end{tabular}\n"
      ],
      "text/markdown": [
       "\n",
       "| Res.Df | RSS | Df | Sum of Sq | F | Pr(>F) |\n",
       "|---|---|---|---|---|---|\n",
       "| 77159     | 5277270   | NA        |        NA |       NA  | NA        |\n",
       "| 77160     | 5622116   | -1        | -344845.9 | 5041.994  |  0        |\n",
       "\n"
      ],
      "text/plain": [
       "  Res.Df RSS     Df Sum of Sq F        Pr(>F)\n",
       "1 77159  5277270 NA        NA       NA NA    \n",
       "2 77160  5622116 -1 -344845.9 5041.994  0    "
      ]
     },
     "metadata": {},
     "output_type": "display_data"
    }
   ],
   "source": [
    "model2 = lm(data = train, atemp~humid) \n",
    "anova(model1, model2)"
   ]
  },
  {
   "cell_type": "markdown",
   "metadata": {
    "collapsed": true
   },
   "source": [
    "Ask about what this means"
   ]
  },
  {
   "cell_type": "markdown",
   "metadata": {},
   "source": [
    "#### (f) Randomly choose five values from the training set, and use those humidity and windspeed values to predict apparent temperature. Be sure to provide and interpret prediction intervals. "
   ]
  },
  {
   "cell_type": "code",
   "execution_count": 39,
   "metadata": {},
   "outputs": [
    {
     "data": {
      "text/html": [
       "<table>\n",
       "<thead><tr><th scope=col>date</th><th scope=col>humid</th><th scope=col>temp</th><th scope=col>atemp</th><th scope=col>wspeed</th></tr></thead>\n",
       "<tbody>\n",
       "\t<tr><td>2014-11-17 21:00:00.000 +0100</td><td>0.89                         </td><td> 8.844444                    </td><td> 8.844444                    </td><td> 3.3649                      </td></tr>\n",
       "\t<tr><td>2015-09-12 06:00:00.000 +0200</td><td>1.00                         </td><td>11.100000                    </td><td>11.100000                    </td><td> 3.1556                      </td></tr>\n",
       "\t<tr><td>2006-06-26 12:00:00.000 +0200</td><td>0.52                         </td><td>31.133333                    </td><td>33.266667                    </td><td>14.2324                      </td></tr>\n",
       "\t<tr><td>2006-09-16 00:00:00.000 +0200</td><td>0.62                         </td><td>19.188889                    </td><td>19.188889                    </td><td>10.8675                      </td></tr>\n",
       "\t<tr><td>2016-05-23 18:00:00.000 +0200</td><td>0.40                         </td><td>27.683333                    </td><td>27.377778                    </td><td> 1.9320                      </td></tr>\n",
       "</tbody>\n",
       "</table>\n"
      ],
      "text/latex": [
       "\\begin{tabular}{r|lllll}\n",
       " date & humid & temp & atemp & wspeed\\\\\n",
       "\\hline\n",
       "\t 2014-11-17 21:00:00.000 +0100 & 0.89                          &  8.844444                     &  8.844444                     &  3.3649                      \\\\\n",
       "\t 2015-09-12 06:00:00.000 +0200 & 1.00                          & 11.100000                     & 11.100000                     &  3.1556                      \\\\\n",
       "\t 2006-06-26 12:00:00.000 +0200 & 0.52                          & 31.133333                     & 33.266667                     & 14.2324                      \\\\\n",
       "\t 2006-09-16 00:00:00.000 +0200 & 0.62                          & 19.188889                     & 19.188889                     & 10.8675                      \\\\\n",
       "\t 2016-05-23 18:00:00.000 +0200 & 0.40                          & 27.683333                     & 27.377778                     &  1.9320                      \\\\\n",
       "\\end{tabular}\n"
      ],
      "text/markdown": [
       "\n",
       "| date | humid | temp | atemp | wspeed |\n",
       "|---|---|---|---|---|\n",
       "| 2014-11-17 21:00:00.000 +0100 | 0.89                          |  8.844444                     |  8.844444                     |  3.3649                       |\n",
       "| 2015-09-12 06:00:00.000 +0200 | 1.00                          | 11.100000                     | 11.100000                     |  3.1556                       |\n",
       "| 2006-06-26 12:00:00.000 +0200 | 0.52                          | 31.133333                     | 33.266667                     | 14.2324                       |\n",
       "| 2006-09-16 00:00:00.000 +0200 | 0.62                          | 19.188889                     | 19.188889                     | 10.8675                       |\n",
       "| 2016-05-23 18:00:00.000 +0200 | 0.40                          | 27.683333                     | 27.377778                     |  1.9320                       |\n",
       "\n"
      ],
      "text/plain": [
       "  date                          humid temp      atemp     wspeed \n",
       "1 2014-11-17 21:00:00.000 +0100 0.89   8.844444  8.844444  3.3649\n",
       "2 2015-09-12 06:00:00.000 +0200 1.00  11.100000 11.100000  3.1556\n",
       "3 2006-06-26 12:00:00.000 +0200 0.52  31.133333 33.266667 14.2324\n",
       "4 2006-09-16 00:00:00.000 +0200 0.62  19.188889 19.188889 10.8675\n",
       "5 2016-05-23 18:00:00.000 +0200 0.40  27.683333 27.377778  1.9320"
      ]
     },
     "metadata": {},
     "output_type": "display_data"
    },
    {
     "data": {
      "text/html": [
       "<table>\n",
       "<thead><tr><th scope=col>fit</th><th scope=col>lwr</th><th scope=col>upr</th></tr></thead>\n",
       "<tbody>\n",
       "\t<tr><td> 7.691227</td><td>-5.912278</td><td>21.29473 </td></tr>\n",
       "\t<tr><td> 3.856175</td><td>-9.747421</td><td>17.45977 </td></tr>\n",
       "\t<tr><td>17.404158</td><td> 3.800671</td><td>31.00764 </td></tr>\n",
       "\t<tr><td>14.913160</td><td> 1.309754</td><td>28.51657 </td></tr>\n",
       "\t<tr><td>25.516266</td><td>11.912375</td><td>39.12016 </td></tr>\n",
       "</tbody>\n",
       "</table>\n"
      ],
      "text/latex": [
       "\\begin{tabular}{r|lll}\n",
       " fit & lwr & upr\\\\\n",
       "\\hline\n",
       "\t  7.691227 & -5.912278 & 21.29473 \\\\\n",
       "\t  3.856175 & -9.747421 & 17.45977 \\\\\n",
       "\t 17.404158 &  3.800671 & 31.00764 \\\\\n",
       "\t 14.913160 &  1.309754 & 28.51657 \\\\\n",
       "\t 25.516266 & 11.912375 & 39.12016 \\\\\n",
       "\\end{tabular}\n"
      ],
      "text/markdown": [
       "\n",
       "| fit | lwr | upr |\n",
       "|---|---|---|\n",
       "|  7.691227 | -5.912278 | 21.29473  |\n",
       "|  3.856175 | -9.747421 | 17.45977  |\n",
       "| 17.404158 |  3.800671 | 31.00764  |\n",
       "| 14.913160 |  1.309754 | 28.51657  |\n",
       "| 25.516266 | 11.912375 | 39.12016  |\n",
       "\n"
      ],
      "text/plain": [
       "  fit       lwr       upr     \n",
       "1  7.691227 -5.912278 21.29473\n",
       "2  3.856175 -9.747421 17.45977\n",
       "3 17.404158  3.800671 31.00764\n",
       "4 14.913160  1.309754 28.51657\n",
       "5 25.516266 11.912375 39.12016"
      ]
     },
     "metadata": {},
     "output_type": "display_data"
    }
   ],
   "source": [
    "set.seed(211)\n",
    "fiveVal = sample_n(test,5)\n",
    "fiveVal\n",
    "predict.lm(model1, fiveVal, interval = 'predict', level = 0.90)"
   ]
  },
  {
   "cell_type": "markdown",
   "metadata": {},
   "source": [
    "The above sample shows 5 random rows from the test set and the predict.lm function is using the humid and wspeed variables from the new data to construct a 90% PI where the lower bounds are the second column and the upper bound is the third column. The interval is using the formula $\\hat{y}^{*} \\pm t_{\\alpha /2, n-(p+1)} \\cdot \\sqrt{\\hat{\\sigma} (1 + X^{*T} (X^{T}X)^{-1} X^{*})}$"
   ]
  },
  {
   "cell_type": "markdown",
   "metadata": {},
   "source": [
    "#### (g) Compute the predicted MSE for all values in the training set using both the MLR and SLR models above. Which performs better?"
   ]
  },
  {
   "cell_type": "code",
   "execution_count": 41,
   "metadata": {},
   "outputs": [
    {
     "data": {
      "text/html": [
       "68.5508959384918"
      ],
      "text/latex": [
       "68.5508959384918"
      ],
      "text/markdown": [
       "68.5508959384918"
      ],
      "text/plain": [
       "[1] 68.5509"
      ]
     },
     "metadata": {},
     "output_type": "display_data"
    },
    {
     "data": {
      "text/html": [
       "72.9347156323442"
      ],
      "text/latex": [
       "72.9347156323442"
      ],
      "text/markdown": [
       "72.9347156323442"
      ],
      "text/plain": [
       "[1] 72.93472"
      ]
     },
     "metadata": {},
     "output_type": "display_data"
    }
   ],
   "source": [
    "mseMLR = mean((test$atemp - predict.lm(model1,test))^2)\n",
    "mseSLR = mean((test$atemp - predict.lm(model2,test))^2)\n",
    "mseMLR\n",
    "mseSLR"
   ]
  },
  {
   "cell_type": "markdown",
   "metadata": {},
   "source": [
    "The MLR model did better, and adding additional parameters will always reduce the MSE of the model, but the more important question is whether it is appropriate to include those parameters"
   ]
  },
  {
   "cell_type": "markdown",
   "metadata": {},
   "source": [
    "#### (h) Describe some difficulties in using the MLR model for explanation for this dataset. Can we infer causality (e.g., that changes in windspeed and humidity cause changes in apparent temperature)? If so, why? If not, what might we need to do to infer causality?"
   ]
  },
  {
   "cell_type": "markdown",
   "metadata": {},
   "source": []
  },
  {
   "cell_type": "markdown",
   "metadata": {},
   "source": [
    "## Problem #2\n",
    "\n",
    "The PlantGrowth data contains results from an experiment to compare yields (as measured by dried weight of plants) obtained under a control and two different treatment conditions. \n",
    "\n",
    "#### (a) Load the data into R and construct a boxplot of weight for each group (the control, treatment 1, and treatment 2). What do you notice about the distribution of weight across these three groups?"
   ]
  },
  {
   "cell_type": "code",
   "execution_count": 32,
   "metadata": {
    "scrolled": false
   },
   "outputs": [
    {
     "data": {
      "text/html": [
       "<table>\n",
       "<thead><tr><th scope=col>weight</th><th scope=col>group</th></tr></thead>\n",
       "<tbody>\n",
       "\t<tr><td>4.17</td><td>ctrl</td></tr>\n",
       "\t<tr><td>5.58</td><td>ctrl</td></tr>\n",
       "\t<tr><td>5.18</td><td>ctrl</td></tr>\n",
       "\t<tr><td>6.11</td><td>ctrl</td></tr>\n",
       "\t<tr><td>4.50</td><td>ctrl</td></tr>\n",
       "\t<tr><td>4.61</td><td>ctrl</td></tr>\n",
       "</tbody>\n",
       "</table>\n"
      ],
      "text/latex": [
       "\\begin{tabular}{r|ll}\n",
       " weight & group\\\\\n",
       "\\hline\n",
       "\t 4.17 & ctrl\\\\\n",
       "\t 5.58 & ctrl\\\\\n",
       "\t 5.18 & ctrl\\\\\n",
       "\t 6.11 & ctrl\\\\\n",
       "\t 4.50 & ctrl\\\\\n",
       "\t 4.61 & ctrl\\\\\n",
       "\\end{tabular}\n"
      ],
      "text/markdown": [
       "\n",
       "| weight | group |\n",
       "|---|---|\n",
       "| 4.17 | ctrl |\n",
       "| 5.58 | ctrl |\n",
       "| 5.18 | ctrl |\n",
       "| 6.11 | ctrl |\n",
       "| 4.50 | ctrl |\n",
       "| 4.61 | ctrl |\n",
       "\n"
      ],
      "text/plain": [
       "  weight group\n",
       "1 4.17   ctrl \n",
       "2 5.58   ctrl \n",
       "3 5.18   ctrl \n",
       "4 6.11   ctrl \n",
       "5 4.50   ctrl \n",
       "6 4.61   ctrl "
      ]
     },
     "metadata": {},
     "output_type": "display_data"
    },
    {
     "data": {
      "image/png": "[encoded data removed]",
      "text/plain": [
       "plot without title"
      ]
     },
     "metadata": {},
     "output_type": "display_data"
    }
   ],
   "source": [
    "data(PlantGrowth)\n",
    "head(PlantGrowth)\n",
    "options(repr.plot.width=8, repr.plot.height=6)\n",
    "ggplot(PlantGrowth, aes(x = group, y = weight, color = group))+geom_boxplot()"
   ]
  },
  {
   "cell_type": "markdown",
   "metadata": {},
   "source": [
    "The inter-quartile range of the control and treatment 1 group is almost exactly the same, while it is tighter for treatment 2. The median is highest for treatment 2 followed by control and then treatment 1"
   ]
  },
  {
   "cell_type": "markdown",
   "metadata": {},
   "source": [
    "#### (b) Perform a regression that uses weight as the response and group as the predictor. Print the summary. Notice that the result is actually *multiple* linear regression, not simple linear regression. The model being used here is:\n",
    "\n",
    "\\begin{align*}\n",
    "Y_i = \\beta_0 + \\beta_1 X_{i,1} + \\beta_2 X_{i,2} + \\varepsilon_i\n",
    "\\end{align*}\n",
    "\n",
    "where \n",
    "\n",
    "1. $X_{i,1} = 1$ if the $i^{th}$ plant is in the first treatment group and zero otherwise.\n",
    "2.  $X_{i,2} = 1$ if the $i^{th}$ plant is in the second treatment group and zero otherwise.\n",
    "\n",
    "Notice that, if $X_{i,1} = 1$ and $X_{i,2} = 1$ are both zero, then the $i^{th}$ plant is in the control group.\n",
    "\n",
    "#### Print out the design matrix to confirm that this is the model being used."
   ]
  },
  {
   "cell_type": "code",
   "execution_count": 33,
   "metadata": {
    "scrolled": true
   },
   "outputs": [
    {
     "data": {
      "text/plain": [
       "\n",
       "Call:\n",
       "lm(formula = weight ~ group, data = PlantGrowth)\n",
       "\n",
       "Residuals:\n",
       "    Min      1Q  Median      3Q     Max \n",
       "-1.0710 -0.4180 -0.0060  0.2627  1.3690 \n",
       "\n",
       "Coefficients:\n",
       "            Estimate Std. Error t value Pr(>|t|)    \n",
       "(Intercept)   5.0320     0.1971  25.527   <2e-16 ***\n",
       "grouptrt1    -0.3710     0.2788  -1.331   0.1944    \n",
       "grouptrt2     0.4940     0.2788   1.772   0.0877 .  \n",
       "---\n",
       "Signif. codes:  0 '***' 0.001 '**' 0.01 '*' 0.05 '.' 0.1 ' ' 1\n",
       "\n",
       "Residual standard error: 0.6234 on 27 degrees of freedom\n",
       "Multiple R-squared:  0.2641,\tAdjusted R-squared:  0.2096 \n",
       "F-statistic: 4.846 on 2 and 27 DF,  p-value: 0.01591\n"
      ]
     },
     "metadata": {},
     "output_type": "display_data"
    },
    {
     "data": {
      "text/html": [
       "<table>\n",
       "<thead><tr><th scope=col>(Intercept)</th><th scope=col>grouptrt1</th><th scope=col>grouptrt2</th></tr></thead>\n",
       "<tbody>\n",
       "\t<tr><td>1</td><td>0</td><td>0</td></tr>\n",
       "\t<tr><td>1</td><td>0</td><td>0</td></tr>\n",
       "\t<tr><td>1</td><td>0</td><td>0</td></tr>\n",
       "\t<tr><td>1</td><td>0</td><td>0</td></tr>\n",
       "\t<tr><td>1</td><td>0</td><td>0</td></tr>\n",
       "\t<tr><td>1</td><td>0</td><td>0</td></tr>\n",
       "</tbody>\n",
       "</table>\n"
      ],
      "text/latex": [
       "\\begin{tabular}{r|lll}\n",
       " (Intercept) & grouptrt1 & grouptrt2\\\\\n",
       "\\hline\n",
       "\t 1 & 0 & 0\\\\\n",
       "\t 1 & 0 & 0\\\\\n",
       "\t 1 & 0 & 0\\\\\n",
       "\t 1 & 0 & 0\\\\\n",
       "\t 1 & 0 & 0\\\\\n",
       "\t 1 & 0 & 0\\\\\n",
       "\\end{tabular}\n"
      ],
      "text/markdown": [
       "\n",
       "| (Intercept) | grouptrt1 | grouptrt2 |\n",
       "|---|---|---|\n",
       "| 1 | 0 | 0 |\n",
       "| 1 | 0 | 0 |\n",
       "| 1 | 0 | 0 |\n",
       "| 1 | 0 | 0 |\n",
       "| 1 | 0 | 0 |\n",
       "| 1 | 0 | 0 |\n",
       "\n"
      ],
      "text/plain": [
       "  (Intercept) grouptrt1 grouptrt2\n",
       "1 1           0         0        \n",
       "2 1           0         0        \n",
       "3 1           0         0        \n",
       "4 1           0         0        \n",
       "5 1           0         0        \n",
       "6 1           0         0        "
      ]
     },
     "metadata": {},
     "output_type": "display_data"
    }
   ],
   "source": [
    "modelB2 = lm(data = PlantGrowth, weight ~ group)\n",
    "summary(modelB2)\n",
    "head(model.matrix(modelB2))"
   ]
  },
  {
   "cell_type": "markdown",
   "metadata": {},
   "source": [
    "#### (c) There are three groups in this study. Why are there only two predictors in the model? To investigate this, consider fitting a new model: \n",
    "\n",
    "\\begin{align*}\n",
    "Y_i = \\beta_0 + \\beta_1 X_{i,1} + \\beta_2 X_{i,2} + \\beta_2 X_{i,3} + \\varepsilon_i\n",
    "\\end{align*}\n",
    "\n",
    "where \n",
    "\n",
    "1. $X_{i,1} = 1$ if the $i^{th}$ plant is in the first treatment group and zero otherwise.\n",
    "2. $X_{i,2} = 1$ if the $i^{th}$ plant is in the second treatment group and zero otherwise.\n",
    "3. $X_{i,3} = 1$ if the $i^{th}$ plant is in the control group and zero otherwise.\n",
    "\n",
    "#### What would happen when you fit this model? (Hint: Something is wrong with the design matrix!)\n"
   ]
  },
  {
   "cell_type": "markdown",
   "metadata": {},
   "source": [
    "The reason we don't use three parameters is because there are only two degrees of freedom. If a plant is not in the control group or treatment one then we know it is in treatment 2. If we attempted to fit this model the design matrix would be the incorrect size...come back to this one"
   ]
  },
  {
   "cell_type": "markdown",
   "metadata": {},
   "source": [
    "#### (d) Interpret the coefficients in the model above. In particular:\n",
    "\n",
    "1. what is the mean yield of the control group?\n",
    "2. what is the mean yield of the treatment 1 group?\n",
    "3. What is the difference in the mean between the control group and and the second treatment group?"
   ]
  },
  {
   "cell_type": "markdown",
   "metadata": {},
   "source": [
    "The average weight for the control group is 5.032, if a plant uses treatment one will see a average wieght loss of -0.3710 so the average weight will be 4.661 and if a plant uses treatment 2 it will see an average weight gain of 0.4940"
   ]
  },
  {
   "cell_type": "markdown",
   "metadata": {},
   "source": [
    "#### (e) Is there reason to believe that there is *some* difference in means between the control group and a treatment group?"
   ]
  },
  {
   "cell_type": "markdown",
   "metadata": {
    "collapsed": true
   },
   "source": [
    "There may be reason to think that the second treatment is effective at producing heavier plants. The p-value with the $\\beta_2$ parameter is 0.0877 so we can be 90% certain there is an postive effect, but not 95% certain"
   ]
  },
  {
   "cell_type": "markdown",
   "metadata": {},
   "source": [
    "#### (f) The R help file claims that this is an experiment. What are some facts that we should consider about the design of the experiment before we might feel comfortable making causal claims about the treatments (e.g., that on average treatment 1 caused an increase in yield of $u$ units over the control)?"
   ]
  },
  {
   "cell_type": "markdown",
   "metadata": {},
   "source": [
    "We should consider whether this data was gathered in a way that violates our regression assumptions (iid, homoskedacity, normal errors, data was not discarded in a non-random fashion)...ask about this later"
   ]
  },
  {
   "cell_type": "code",
   "execution_count": null,
   "metadata": {},
   "outputs": [],
   "source": []
  }
 ],
 "metadata": {
  "kernelspec": {
   "display_name": "R",
   "language": "R",
   "name": "ir"
  },
  "language_info": {
   "codemirror_mode": "r",
   "file_extension": ".r",
   "mimetype": "text/x-r-source",
   "name": "R",
   "pygments_lexer": "r",
   "version": "3.6.1"
  }
 },
 "nbformat": 4,
 "nbformat_minor": 2
}
